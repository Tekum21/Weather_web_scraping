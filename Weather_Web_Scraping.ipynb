{
  "nbformat": 4,
  "nbformat_minor": 0,
  "metadata": {
    "colab": {
      "name": "Weather Web Scraping",
      "provenance": []
    },
    "kernelspec": {
      "name": "python3",
      "display_name": "Python 3"
    }
  },
  "cells": [
    {
      "cell_type": "code",
      "metadata": {
        "id": "IzMiR2BR4NHE",
        "colab_type": "code",
        "colab": {}
      },
      "source": [
        "import requests\n",
        "from bs4 import BeautifulSoup\n",
        "import pandas as pd\n"
      ],
      "execution_count": 0,
      "outputs": []
    },
    {
      "cell_type": "code",
      "metadata": {
        "id": "LG4eHioX6w5c",
        "colab_type": "code",
        "colab": {}
      },
      "source": [
        "url=\"https://forecast.weather.gov/MapClick.php?lat=34.099695000000054&lon=-118.33539999999999#.XsOOAGhKhyw\"\n",
        "page=requests.get(url)"
      ],
      "execution_count": 0,
      "outputs": []
    },
    {
      "cell_type": "code",
      "metadata": {
        "id": "p0p81-eB7RV3",
        "colab_type": "code",
        "colab": {}
      },
      "source": [
        "# To display the page content.\n",
        "soup=BeautifulSoup(page.content,\"html\")\n",
        "soup"
      ],
      "execution_count": 0,
      "outputs": []
    },
    {
      "cell_type": "code",
      "metadata": {
        "id": "EvAU8D0Y9Tx-",
        "colab_type": "code",
        "colab": {}
      },
      "source": [
        "# To find all the links on this page, we use;\n",
        "soup.find_all(\"a\")"
      ],
      "execution_count": 0,
      "outputs": []
    },
    {
      "cell_type": "code",
      "metadata": {
        "id": "YNggdNaR-VSk",
        "colab_type": "code",
        "colab": {}
      },
      "source": [
        "week= soup.find(id=\"seven-day-forecast-container\") # Or soup.find_all(class_= \"panel-body\")\n",
        "week"
      ],
      "execution_count": 0,
      "outputs": []
    },
    {
      "cell_type": "code",
      "metadata": {
        "id": "RYgalm9KAnpP",
        "colab_type": "code",
        "colab": {}
      },
      "source": [
        "# extracting the items listed on each day forecast\n",
        "items= week.find_all(class_=\"tombstone-container\")\n",
        "print(items)\n"
      ],
      "execution_count": 0,
      "outputs": []
    },
    {
      "cell_type": "code",
      "metadata": {
        "id": "0W7gjbUWHFW7",
        "colab_type": "code",
        "outputId": "cab58cd7-9474-4790-dcd4-9dfcca51409d",
        "colab": {
          "base_uri": "https://localhost:8080/",
          "height": 89
        }
      },
      "source": [
        "print(items[0]) # Brief summary of the first item"
      ],
      "execution_count": 0,
      "outputs": [
        {
          "output_type": "stream",
          "text": [
            "<div class=\"tombstone-container\">\n",
            "<p class=\"period-name\">Overnight<br/><br/></p>\n",
            "<p><img alt=\"Overnight: Partly cloudy, with a low around 52. East southeast wind around 5 mph. \" class=\"forecast-icon\" src=\"newimages/medium/nsct.png\" title=\"Overnight: Partly cloudy, with a low around 52. East southeast wind around 5 mph. \"/></p><p class=\"short-desc\">Partly Cloudy</p><p class=\"temp temp-low\">Low: 52 °F</p></div>\n"
          ],
          "name": "stdout"
        }
      ]
    },
    {
      "cell_type": "code",
      "metadata": {
        "id": "l__37rJ3XB_J",
        "colab_type": "code",
        "outputId": "2b864585-5e83-43ff-b928-2ad75fd98762",
        "colab": {
          "base_uri": "https://localhost:8080/",
          "height": 69
        }
      },
      "source": [
        "print(items[0].find(class_=\"period-name\").getText())\n",
        "print(items[0].find(class_=\"short-desc\").getText())\n",
        "print(items[0].find(class_=\"temp\").getText())"
      ],
      "execution_count": 7,
      "outputs": [
        {
          "output_type": "stream",
          "text": [
            "ThisAfternoon\n",
            "Mostly Sunny\n",
            "High: 70 °F\n"
          ],
          "name": "stdout"
        }
      ]
    },
    {
      "cell_type": "code",
      "metadata": {
        "id": "bgAO0A7SZTyl",
        "colab_type": "code",
        "outputId": "3de4dd73-353e-4a32-ca92-affecc1ecf4b",
        "colab": {
          "base_uri": "https://localhost:8080/",
          "height": 173
        }
      },
      "source": [
        "# Using a for loop to generate a list of items in period-name\n",
        "period_names=[]\n",
        "for item in items:\n",
        "      period_names.append(item.find(class_=\"period-name\").get_text())\n",
        "period_names"
      ],
      "execution_count": 10,
      "outputs": [
        {
          "output_type": "execute_result",
          "data": {
            "text/plain": [
              "['ThisAfternoon',\n",
              " 'Tonight',\n",
              " 'Wednesday',\n",
              " 'WednesdayNight',\n",
              " 'Thursday',\n",
              " 'ThursdayNight',\n",
              " 'Friday',\n",
              " 'FridayNight',\n",
              " 'Saturday']"
            ]
          },
          "metadata": {
            "tags": []
          },
          "execution_count": 10
        }
      ]
    },
    {
      "cell_type": "code",
      "metadata": {
        "id": "C7MeyUnRgevd",
        "colab_type": "code",
        "outputId": "7b0e48a9-b856-498d-db8e-7b1d9a372dd5",
        "colab": {
          "base_uri": "https://localhost:8080/",
          "height": 173
        }
      },
      "source": [
        "# Using a for loop to generate a list of items in short descriptions.\n",
        "short_descrpt=[]\n",
        "for item in items:\n",
        "  short_descrpt.append(item.find(class_=\"short-desc\").getText())\n",
        "short_descrpt"
      ],
      "execution_count": 11,
      "outputs": [
        {
          "output_type": "execute_result",
          "data": {
            "text/plain": [
              "['Mostly Sunny',\n",
              " 'Mostly Clear',\n",
              " 'Sunny',\n",
              " 'Mostly Clear',\n",
              " 'Sunny',\n",
              " 'Mostly Clear',\n",
              " 'Sunny',\n",
              " 'Mostly Cloudy',\n",
              " 'Mostly Sunny']"
            ]
          },
          "metadata": {
            "tags": []
          },
          "execution_count": 11
        }
      ]
    },
    {
      "cell_type": "code",
      "metadata": {
        "id": "mxkt5ECuhDOw",
        "colab_type": "code",
        "outputId": "570b0879-9588-431e-d622-b527726d6d6a",
        "colab": {
          "base_uri": "https://localhost:8080/",
          "height": 173
        }
      },
      "source": [
        "# Using a for loop to generate a list of items in temperature.\n",
        "Temp=[]\n",
        "for item in items:\n",
        "  Temp.append(item.find(class_=\"temp\").getText())\n",
        "Temp"
      ],
      "execution_count": 12,
      "outputs": [
        {
          "output_type": "execute_result",
          "data": {
            "text/plain": [
              "['High: 70 °F',\n",
              " 'Low: 54 °F',\n",
              " 'High: 73 °F',\n",
              " 'Low: 55 °F',\n",
              " 'High: 80 °F',\n",
              " 'Low: 58 °F',\n",
              " 'High: 76 °F',\n",
              " 'Low: 57 °F',\n",
              " 'High: 75 °F']"
            ]
          },
          "metadata": {
            "tags": []
          },
          "execution_count": 12
        }
      ]
    },
    {
      "cell_type": "code",
      "metadata": {
        "id": "kNm2QSVXl-54",
        "colab_type": "code",
        "outputId": "1e6fd4b1-eee3-42ee-b182-842a0db961a3",
        "colab": {
          "base_uri": "https://localhost:8080/",
          "height": 325
        }
      },
      "source": [
        "# Generating a DataFrame.\n",
        "weather_infos=pd.DataFrame(\n",
        "    {\n",
        "        \"Period\":period_names,\n",
        "        \"short-descrpt\":short_descrpt,\n",
        "        \"Temp\":Temp,\n",
        "    })\n",
        "weather_infos"
      ],
      "execution_count": 14,
      "outputs": [
        {
          "output_type": "execute_result",
          "data": {
            "text/html": [
              "<div>\n",
              "<style scoped>\n",
              "    .dataframe tbody tr th:only-of-type {\n",
              "        vertical-align: middle;\n",
              "    }\n",
              "\n",
              "    .dataframe tbody tr th {\n",
              "        vertical-align: top;\n",
              "    }\n",
              "\n",
              "    .dataframe thead th {\n",
              "        text-align: right;\n",
              "    }\n",
              "</style>\n",
              "<table border=\"1\" class=\"dataframe\">\n",
              "  <thead>\n",
              "    <tr style=\"text-align: right;\">\n",
              "      <th></th>\n",
              "      <th>Period</th>\n",
              "      <th>short-descrpt</th>\n",
              "      <th>Temp</th>\n",
              "    </tr>\n",
              "  </thead>\n",
              "  <tbody>\n",
              "    <tr>\n",
              "      <th>0</th>\n",
              "      <td>ThisAfternoon</td>\n",
              "      <td>Mostly Sunny</td>\n",
              "      <td>High: 70 °F</td>\n",
              "    </tr>\n",
              "    <tr>\n",
              "      <th>1</th>\n",
              "      <td>Tonight</td>\n",
              "      <td>Mostly Clear</td>\n",
              "      <td>Low: 54 °F</td>\n",
              "    </tr>\n",
              "    <tr>\n",
              "      <th>2</th>\n",
              "      <td>Wednesday</td>\n",
              "      <td>Sunny</td>\n",
              "      <td>High: 73 °F</td>\n",
              "    </tr>\n",
              "    <tr>\n",
              "      <th>3</th>\n",
              "      <td>WednesdayNight</td>\n",
              "      <td>Mostly Clear</td>\n",
              "      <td>Low: 55 °F</td>\n",
              "    </tr>\n",
              "    <tr>\n",
              "      <th>4</th>\n",
              "      <td>Thursday</td>\n",
              "      <td>Sunny</td>\n",
              "      <td>High: 80 °F</td>\n",
              "    </tr>\n",
              "    <tr>\n",
              "      <th>5</th>\n",
              "      <td>ThursdayNight</td>\n",
              "      <td>Mostly Clear</td>\n",
              "      <td>Low: 58 °F</td>\n",
              "    </tr>\n",
              "    <tr>\n",
              "      <th>6</th>\n",
              "      <td>Friday</td>\n",
              "      <td>Sunny</td>\n",
              "      <td>High: 76 °F</td>\n",
              "    </tr>\n",
              "    <tr>\n",
              "      <th>7</th>\n",
              "      <td>FridayNight</td>\n",
              "      <td>Mostly Cloudy</td>\n",
              "      <td>Low: 57 °F</td>\n",
              "    </tr>\n",
              "    <tr>\n",
              "      <th>8</th>\n",
              "      <td>Saturday</td>\n",
              "      <td>Mostly Sunny</td>\n",
              "      <td>High: 75 °F</td>\n",
              "    </tr>\n",
              "  </tbody>\n",
              "</table>\n",
              "</div>"
            ],
            "text/plain": [
              "           Period  short-descrpt         Temp\n",
              "0   ThisAfternoon   Mostly Sunny  High: 70 °F\n",
              "1         Tonight   Mostly Clear   Low: 54 °F\n",
              "2       Wednesday          Sunny  High: 73 °F\n",
              "3  WednesdayNight   Mostly Clear   Low: 55 °F\n",
              "4        Thursday          Sunny  High: 80 °F\n",
              "5   ThursdayNight   Mostly Clear   Low: 58 °F\n",
              "6          Friday          Sunny  High: 76 °F\n",
              "7     FridayNight  Mostly Cloudy   Low: 57 °F\n",
              "8        Saturday   Mostly Sunny  High: 75 °F"
            ]
          },
          "metadata": {
            "tags": []
          },
          "execution_count": 14
        }
      ]
    },
    {
      "cell_type": "code",
      "metadata": {
        "id": "teruBIfbokze",
        "colab_type": "code",
        "colab": {}
      },
      "source": [
        "#saving our DataFrame into a csv file.\n",
        "weather_infos.to_csv(\"weather.csv\")"
      ],
      "execution_count": 0,
      "outputs": []
    },
    {
      "cell_type": "code",
      "metadata": {
        "id": "DQn9JKwipSLb",
        "colab_type": "code",
        "outputId": "cb7814b3-351d-4914-8e99-9b0f5f53d61c",
        "colab": {
          "base_uri": "https://localhost:8080/",
          "height": 325
        }
      },
      "source": [
        "Df=pd.read_csv('weather.csv')\n",
        "Df.reset_index(drop=True)\n",
        "Df"
      ],
      "execution_count": 28,
      "outputs": [
        {
          "output_type": "execute_result",
          "data": {
            "text/html": [
              "<div>\n",
              "<style scoped>\n",
              "    .dataframe tbody tr th:only-of-type {\n",
              "        vertical-align: middle;\n",
              "    }\n",
              "\n",
              "    .dataframe tbody tr th {\n",
              "        vertical-align: top;\n",
              "    }\n",
              "\n",
              "    .dataframe thead th {\n",
              "        text-align: right;\n",
              "    }\n",
              "</style>\n",
              "<table border=\"1\" class=\"dataframe\">\n",
              "  <thead>\n",
              "    <tr style=\"text-align: right;\">\n",
              "      <th></th>\n",
              "      <th>Unnamed: 0</th>\n",
              "      <th>Period</th>\n",
              "      <th>short-descrpt</th>\n",
              "      <th>Temp</th>\n",
              "    </tr>\n",
              "  </thead>\n",
              "  <tbody>\n",
              "    <tr>\n",
              "      <th>0</th>\n",
              "      <td>0</td>\n",
              "      <td>ThisAfternoon</td>\n",
              "      <td>Mostly Sunny</td>\n",
              "      <td>High: 70 °F</td>\n",
              "    </tr>\n",
              "    <tr>\n",
              "      <th>1</th>\n",
              "      <td>1</td>\n",
              "      <td>Tonight</td>\n",
              "      <td>Mostly Clear</td>\n",
              "      <td>Low: 54 °F</td>\n",
              "    </tr>\n",
              "    <tr>\n",
              "      <th>2</th>\n",
              "      <td>2</td>\n",
              "      <td>Wednesday</td>\n",
              "      <td>Sunny</td>\n",
              "      <td>High: 73 °F</td>\n",
              "    </tr>\n",
              "    <tr>\n",
              "      <th>3</th>\n",
              "      <td>3</td>\n",
              "      <td>WednesdayNight</td>\n",
              "      <td>Mostly Clear</td>\n",
              "      <td>Low: 55 °F</td>\n",
              "    </tr>\n",
              "    <tr>\n",
              "      <th>4</th>\n",
              "      <td>4</td>\n",
              "      <td>Thursday</td>\n",
              "      <td>Sunny</td>\n",
              "      <td>High: 80 °F</td>\n",
              "    </tr>\n",
              "    <tr>\n",
              "      <th>5</th>\n",
              "      <td>5</td>\n",
              "      <td>ThursdayNight</td>\n",
              "      <td>Mostly Clear</td>\n",
              "      <td>Low: 58 °F</td>\n",
              "    </tr>\n",
              "    <tr>\n",
              "      <th>6</th>\n",
              "      <td>6</td>\n",
              "      <td>Friday</td>\n",
              "      <td>Sunny</td>\n",
              "      <td>High: 76 °F</td>\n",
              "    </tr>\n",
              "    <tr>\n",
              "      <th>7</th>\n",
              "      <td>7</td>\n",
              "      <td>FridayNight</td>\n",
              "      <td>Mostly Cloudy</td>\n",
              "      <td>Low: 57 °F</td>\n",
              "    </tr>\n",
              "    <tr>\n",
              "      <th>8</th>\n",
              "      <td>8</td>\n",
              "      <td>Saturday</td>\n",
              "      <td>Mostly Sunny</td>\n",
              "      <td>High: 75 °F</td>\n",
              "    </tr>\n",
              "  </tbody>\n",
              "</table>\n",
              "</div>"
            ],
            "text/plain": [
              "   Unnamed: 0          Period  short-descrpt         Temp\n",
              "0           0   ThisAfternoon   Mostly Sunny  High: 70 °F\n",
              "1           1         Tonight   Mostly Clear   Low: 54 °F\n",
              "2           2       Wednesday          Sunny  High: 73 °F\n",
              "3           3  WednesdayNight   Mostly Clear   Low: 55 °F\n",
              "4           4        Thursday          Sunny  High: 80 °F\n",
              "5           5   ThursdayNight   Mostly Clear   Low: 58 °F\n",
              "6           6          Friday          Sunny  High: 76 °F\n",
              "7           7     FridayNight  Mostly Cloudy   Low: 57 °F\n",
              "8           8        Saturday   Mostly Sunny  High: 75 °F"
            ]
          },
          "metadata": {
            "tags": []
          },
          "execution_count": 28
        }
      ]
    }
  ]
}